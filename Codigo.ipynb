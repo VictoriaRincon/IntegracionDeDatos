{
  "nbformat": 4,
  "nbformat_minor": 0,
  "metadata": {
    "colab": {
      "provenance": []
    },
    "kernelspec": {
      "name": "python3",
      "display_name": "Python 3"
    },
    "language_info": {
      "name": "python"
    }
  },
  "cells": [
    {
      "cell_type": "markdown",
      "source": [
        "#Integracion de Datos"
      ],
      "metadata": {
        "id": "05vIhxSGU355"
      }
    },
    {
      "cell_type": "markdown",
      "source": [
        "## Preparación del ambiente"
      ],
      "metadata": {
        "id": "mwCSqBdCVAop"
      }
    },
    {
      "cell_type": "code",
      "source": [
        "! pip install --upgrade pip\n",
        "\n",
        "! pip install unidecode\n",
        "\n",
        "! pip install wget\n",
        "\n",
        "! pip install ydata-profiling\n",
        "\n",
        "##! pip install --upgrade Pillow\n",
        "\n",
        "import pandas as pd\n",
        "import wget"
      ],
      "metadata": {
        "id": "bYeKxf7qxJid"
      },
      "execution_count": null,
      "outputs": []
    },
    {
      "cell_type": "code",
      "source": [
        "\n",
        "wget.download('https://github.com/VictoriaRincon/IntegracionDeDatos/raw/main/Fuentes/Reporte_semanal_xx2023.xlsx')\n",
        "wget.download('https://github.com/VictoriaRincon/IntegracionDeDatos/raw/main/Fuentes/alimentos.xlsx')\n",
        "wget.download('https://github.com/VictoriaRincon/IntegracionDeDatos/raw/main/Fuentes/cadena_mes_2023.xlsx')\n",
        "wget.download('https://github.com/VictoriaRincon/IntegracionDeDatos/raw/main/Fuentes/precios_mes_2023.xlsx')\n",
        "wget.download('https://github.com/VictoriaRincon/IntegracionDeDatos/raw/main/Fuentes/v_productos_real.xlsx')"
      ],
      "metadata": {
        "id": "KVUOFKB9T0ki"
      },
      "execution_count": null,
      "outputs": []
    },
    {
      "cell_type": "code",
      "source": [
        "v_productos_real = pd.read_excel(\"v_productos_real.xlsx\")\n",
        "alimentos = pd.read_excel(\"alimentos.xlsx\")"
      ],
      "metadata": {
        "id": "4QTz3RWPxKSY"
      },
      "execution_count": null,
      "outputs": []
    },
    {
      "cell_type": "code",
      "source": [
        "# Agregar una columna 'id_a' que contiene el número de la tupla (índice de fila)\n",
        "alimentos['id_a'] = alimentos.index"
      ],
      "metadata": {
        "id": "l-XZUuRNU2xg"
      },
      "execution_count": null,
      "outputs": []
    },
    {
      "cell_type": "markdown",
      "source": [
        "##Filtro de v_productos_real en v_productos_real_libre_de_gluten"
      ],
      "metadata": {
        "id": "eSnUzex9H1Cg"
      }
    },
    {
      "cell_type": "code",
      "source": [
        "filtro = v_productos_real['NOMBRE'].str.contains('GLUTEN|SIN TACC', case=False, na=False)\n",
        "v_productos_real_libre_de_gluten = v_productos_real[filtro]"
      ],
      "metadata": {
        "id": "oTaIDNOOH9RG"
      },
      "execution_count": null,
      "outputs": []
    },
    {
      "cell_type": "code",
      "source": [
        "columnas_a_eliminar = ['IDPROD', 'RUBRO', 'NRO_HAB','IDCAPI','IDCLASE','CLASE','VIDA_UTIL','PAIS','DPTO','ENVASE','MATERIAL_ENVASE','PRESENTACION','ESTADO','FDESDE_HAB','FHASTA_HAB','RUC']\n",
        "\n",
        "# Eliminando las columnas especificadas\n",
        "v_productos_real_libre_de_gluten = v_productos_real_libre_de_gluten.drop(columns=columnas_a_eliminar)\n",
        "\n",
        "v_productos_real_libre_de_gluten['prod_real_id'] = v_productos_real_libre_de_gluten.index"
      ],
      "metadata": {
        "id": "otl04eJxMu8x"
      },
      "execution_count": null,
      "outputs": []
    },
    {
      "cell_type": "markdown",
      "source": [
        "##Integración entre v_productos_real_libre_de_gluten y alimentos"
      ],
      "metadata": {
        "id": "MI6QM8gQMbWv"
      }
    },
    {
      "cell_type": "code",
      "source": [
        "columnas = ['Nombre', 'Marca', 'Categoria','Empresa','Local','Tamaño','prod_real_id','a_id']\n",
        "productos_sin_gluten = pd.DataFrame(columns=columnas)\n",
        "\n",
        "for i in alimentos.index:\n",
        "      mi_array=alimentos.Nombre[i].split(' ')\n",
        "      for indice in v_productos_real_libre_de_gluten.index:\n",
        "        if(all(palabra_clave.upper() in v_productos_real_libre_de_gluten.NOMBRE[indice].upper() for palabra_clave in mi_array) and (str(v_productos_real_libre_de_gluten['MARCA'][indice]).lower() == alimentos.Marca[i].lower())):\n",
        "          tupla=(v_productos_real_libre_de_gluten.NOMBRE[indice],v_productos_real_libre_de_gluten.MARCA[indice],alimentos.Categoría[i],v_productos_real_libre_de_gluten.EMPRESA[indice],v_productos_real_libre_de_gluten.LOCAL[indice],\n",
        "                  v_productos_real_libre_de_gluten.TAMANIO_PRESENTACION[indice],v_productos_real_libre_de_gluten.prod_real_id[indice],alimentos.id_a[i])\n",
        "          productos_sin_gluten.loc[len(productos_sin_gluten)] = tupla"
      ],
      "metadata": {
        "id": "UQibbPe7Mfm6"
      },
      "execution_count": null,
      "outputs": []
    },
    {
      "cell_type": "code",
      "source": [
        "productos_sin_gluten['ps_gluten_id']= productos_sin_gluten.index"
      ],
      "metadata": {
        "id": "kkC73CJySGXt"
      },
      "execution_count": null,
      "outputs": []
    },
    {
      "cell_type": "markdown",
      "source": [
        "##Lectura de 'precios_mes' y 'cadena_mes'"
      ],
      "metadata": {
        "id": "wdAAu8p0hgpZ"
      }
    },
    {
      "cell_type": "code",
      "source": [
        "import chardet\n",
        "\n",
        "cadena_mes = pd.read_excel(\"cadena_mes_2023.xlsx\", header=1)\n",
        "\n",
        "# Leer el archivo con la codificación detectada\n",
        "precios_mes = pd.read_excel('precios_mes_2023.xlsx')"
      ],
      "metadata": {
        "id": "0PubJIWqhoC0"
      },
      "execution_count": null,
      "outputs": []
    },
    {
      "cell_type": "code",
      "source": [
        "cadena_mes['c_id']= cadena_mes.index"
      ],
      "metadata": {
        "id": "y7QwurmYwCeU"
      },
      "execution_count": null,
      "outputs": []
    },
    {
      "cell_type": "code",
      "source": [
        "precios_mes['p_id'] = precios_mes.index"
      ],
      "metadata": {
        "id": "0_p0x-Y5wIkM"
      },
      "execution_count": null,
      "outputs": []
    },
    {
      "cell_type": "markdown",
      "source": [
        "## Integración 'precios_mes' y 'cadena_mes'"
      ],
      "metadata": {
        "id": "Wom5MJk4nkzh"
      }
    },
    {
      "cell_type": "code",
      "source": [
        "columnas = ['Producto', 'Marca', 'Especificacion','Precio','Empresa','p_id','c_id']\n",
        "producto_precio = pd.DataFrame(columns=columnas)\n",
        "columnas_empresas = ['Devoto','Disco','El Dorado','Macro','Red Market','Ta - Ta','Tienda Inglesa']\n",
        "\n",
        "\n",
        "for i in precios_mes.index:\n",
        "    filas_precios_cadena = cadena_mes[(cadena_mes['Presentaciones'].str.contains(precios_mes.producto[i], case=False, na=False))\n",
        "                                       & (pd.isna(precios_mes.marca[i]) or (not pd.isna(precios_mes.marca[i]) and cadena_mes['Presentaciones'].str.contains(precios_mes.marca[i], case=False, na=False)))\n",
        "                                       & (cadena_mes['Presentaciones'].str.contains(precios_mes.especificacion[i], case=False,na=False))]\n",
        "    if (len(filas_precios_cadena) >0):\n",
        "        for row in filas_precios_cadena.index:\n",
        "          for nombre in columnas_empresas:\n",
        "            if(not (cadena_mes[nombre][row]=='--')):\n",
        "              tupla=(precios_mes.producto[i],precios_mes.marca[i],precios_mes.especificacion[i],cadena_mes[nombre][row],nombre,filas_precios_cadena.c_id[row],precios_mes.p_id[i])\n",
        "              producto_precio.loc[len(producto_precio)] = tupla\n",
        "\n",
        "producto_precio['pp_id'] = producto_precio.index"
      ],
      "metadata": {
        "id": "PysKefTknqcx"
      },
      "execution_count": null,
      "outputs": []
    },
    {
      "cell_type": "markdown",
      "source": [
        "## Integración productos_sin_gluten y producto_precio"
      ],
      "metadata": {
        "id": "EpKLBPYXolsc"
      }
    },
    {
      "cell_type": "code",
      "source": [
        "import numpy as np\n",
        "from unidecode import unidecode\n",
        "\n",
        "\n",
        "columnas_dataset_final = ['Nombre','Marca','Precio','Categoria','Local','Tamaño','Productores','ps_gluten_id','pp_id','rs_id']\n",
        "dataset_final = pd.DataFrame(columns=columnas_dataset_final)\n",
        "\n",
        "\n",
        "filas_precios_frutas_vegetales = producto_precio[pd.isna(producto_precio['Marca'])]\n",
        "for row in filas_precios_frutas_vegetales.index:\n",
        "  tupla=(filas_precios_frutas_vegetales.Producto[row],'No Aplica',filas_precios_frutas_vegetales.Precio[row],'FRUTAS-HORTALIZAS Y DERIVADOS',filas_precios_frutas_vegetales.Empresa[row],'1kg.','Mayorista Fruta',-1,filas_precios_frutas_vegetales.pp_id[row],-1)\n",
        "  dataset_final.loc[len(dataset_final)] = tupla\n",
        "\n",
        "\n",
        "for i in producto_precio.index:\n",
        "  producto = producto_precio.Producto[i]\n",
        "  marca = producto_precio.Marca[i]\n",
        "  empresa = producto_precio.Empresa[i]\n",
        "\n",
        "\n",
        "  filas_precios_cadena = productos_sin_gluten[(productos_sin_gluten['Nombre'].str.startswith(unidecode(producto).upper()))]\n",
        "  if (len (filas_precios_cadena)>0):\n",
        "    filas_precios_cadena2 = filas_precios_cadena[filas_precios_cadena['Marca'].notna()]\n",
        "    if (len(filas_precios_cadena2)==len(filas_precios_cadena)):\n",
        "      filas_precios_cadena_final = filas_precios_cadena2[filas_precios_cadena2['Marca'] == unidecode(marca).upper()]\n",
        "      if (len(filas_precios_cadena_final)>0):\n",
        "        for row in filas_precios_cadena_final.index:\n",
        "          tupla=(filas_precios_cadena_final.Nombre[row],filas_precios_cadena_final.Marca[row],producto_precio.Precio[i],filas_precios_cadena_final.Categoria[row],producto_precio.Empresa[i],producto_precio.Especificacion[i],filas_precios_cadena_final.Empresa[row],filas_precios_cadena_final.ps_gluten_id[row], producto_precio.pp_id[i],-1)\n",
        "          dataset_final.loc[len(dataset_final)] = tupla"
      ],
      "metadata": {
        "id": "-GKehFGotjfM"
      },
      "execution_count": null,
      "outputs": []
    },
    {
      "cell_type": "code",
      "source": [
        "reporte_semanal = pd.read_excel(\"Reporte_semanal_xx2023.xlsx\",header=1)\n",
        "reporte_semanal = reporte_semanal.rename(columns={'Unnamed: 0': 'Producto'})\n",
        "reporte_semanal = reporte_semanal.rename(columns={'$/kg': 'Precio'})\n",
        "reporte_semanal ['rs_id'] = reporte_semanal.index\n",
        "reporte_semanal = reporte_semanal.drop(reporte_semanal.index[-1])"
      ],
      "metadata": {
        "id": "l0s6rGPQU1LR"
      },
      "execution_count": null,
      "outputs": []
    },
    {
      "cell_type": "code",
      "source": [
        "reporte_semanal.info()"
      ],
      "metadata": {
        "id": "cnXJom08aMvz"
      },
      "execution_count": null,
      "outputs": []
    },
    {
      "cell_type": "code",
      "source": [
        "largo =len(dataset_final)\n",
        "for fila in reporte_semanal.index:\n",
        "      tupla=(reporte_semanal.Producto[fila],'No Aplica',reporte_semanal.Precio[fila],'FRUTAS-HORTALIZAS Y DERIVADOS','UAM','1kg.','Mayorista Fruta',-1, -1,reporte_semanal.rs_id[fila])\n",
        "      dataset_final.loc[largo] = tupla\n",
        "      largo+=1\n",
        "\n",
        "dataset_final = dataset_final.drop_duplicates(subset=dataset_final.columns.difference(['ps_gluten_id','pp_id']))\n",
        "dataset_final['eig_id']= dataset_final.index"
      ],
      "metadata": {
        "id": "s8CtpKesVLfs"
      },
      "execution_count": null,
      "outputs": []
    },
    {
      "cell_type": "markdown",
      "source": [
        "## Creación Esquema Integrado"
      ],
      "metadata": {
        "id": "3ZJhIQMC_1Re"
      }
    },
    {
      "cell_type": "code",
      "source": [
        "import sqlite3\n",
        "from datetime import datetime\n",
        "import pytz\n",
        "\n",
        "zona_horaria_uruguay = pytz.timezone('America/Montevideo')\n",
        "\n",
        "conn = sqlite3.connect(\"base_glutenos.db\")\n",
        "cursor = conn.cursor()\n",
        "\n",
        "dataset_final.to_sql('esquema_integrado_glutenos', conn, index=False, if_exists='replace')\n",
        "conn.commit()\n",
        "conn.close()"
      ],
      "metadata": {
        "id": "1dt-BEaZQs8k"
      },
      "execution_count": null,
      "outputs": []
    },
    {
      "cell_type": "code",
      "source": [
        "conn = sqlite3.connect(\"base_glutenos.db\")\n",
        "cursor = conn.cursor()\n",
        "\n",
        "cursor.execute('SELECT * FROM esquema_integrado_glutenos')\n",
        "resultados = cursor.fetchall()\n",
        "pd.DataFrame(resultados)"
      ],
      "metadata": {
        "id": "BFoD0vlZSL1j"
      },
      "execution_count": null,
      "outputs": []
    },
    {
      "cell_type": "markdown",
      "source": [
        "## Ejemplos de problemas"
      ],
      "metadata": {
        "id": "TxuZcoZRVS0W"
      }
    },
    {
      "cell_type": "code",
      "source": [
        "cursor = conn.cursor()\n",
        "\n",
        "consulta = \"SELECT * FROM esquema_integrado_glutenos WHERE LOWER(Nombre) LIKE '%dulce de leche%'\"\n",
        "cursor.execute(consulta)\n",
        "\n",
        "nombres_columnas = [desc[0] for desc in cursor.description]\n",
        "\n",
        "resultados = cursor.fetchall()\n",
        "pd.DataFrame(resultados, columns=nombres_columnas)\n"
      ],
      "metadata": {
        "id": "lgBrgF6CTujk"
      },
      "execution_count": null,
      "outputs": []
    },
    {
      "cell_type": "code",
      "source": [
        "cursor = conn.cursor()\n",
        "\n",
        "consulta = \"SELECT * FROM esquema_integrado_glutenos WHERE Local LIKE '%Ta - Ta%'\"\n",
        "cursor.execute(consulta)\n",
        "\n",
        "nombres_columnas = [desc[0] for desc in cursor.description]\n",
        "\n",
        "resultados = cursor.fetchall()\n",
        "pd.DataFrame(resultados, columns=nombres_columnas)"
      ],
      "metadata": {
        "id": "zptSxAkrXd_z"
      },
      "execution_count": null,
      "outputs": []
    }
  ]
}